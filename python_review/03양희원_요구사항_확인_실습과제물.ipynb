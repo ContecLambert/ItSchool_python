{
 "cells": [
  {
   "cell_type": "code",
   "execution_count": 65,
   "metadata": {},
   "outputs": [
    {
     "data": {
      "image/png": "[encoded data removed]",
      "text/plain": [
       "<IPython.core.display.Image object>"
      ]
     },
     "execution_count": 65,
     "metadata": {},
     "output_type": "execute_result"
    }
   ],
   "source": [
    "from IPython.display import Image\n",
    "Image(\"ch04표지.png\")"
   ]
  },
  {
   "cell_type": "markdown",
   "metadata": {},
   "source": [
    "### 정적 사이트 (Server rendering)\n",
    "\n",
    "- html data를 가지고 온다\n",
    "- 받아온 데이터에서 적절한 값을 추출하는 과정 ==>parsing\n",
    "- blog 검색결과\n",
    "- HTML Tag : ol#reallink>div>(li.up>a[href=\"#\"]{실시간 검색어$$})*5\n",
    "- HTML 구조를 계층적으로 표현하는 DOM(Document Object Model) 형태이다\n",
    "- html>body>div>ul>li.....\n",
    "- html 파일 불러오기 => requests.get(URL)\n",
    "- 데이터 파싱 => BeautifulSoup([html 데이터],\"html.parser\") => bs.select([selector])\n",
    "\n",
    "### 동적 사이트 (Client rendering)\n",
    "\n",
    "- 어디에선가 (_________ => API) 찾는 과정\n",
    "- 데이터를 불러오고\n",
    "- 데이터를 추출한다 =>parsing\n"
   ]
  },
  {
   "cell_type": "markdown",
   "metadata": {},
   "source": [
    "### Daum 블로그 => 검색어 : 파이썬"
   ]
  },
  {
   "cell_type": "code",
   "execution_count": 57,
   "metadata": {
    "scrolled": false
   },
   "outputs": [
    {
     "name": "stdout",
     "output_type": "stream",
     "text": [
      "세종사이버대 컴퓨터AI공학과\n",
      "https://keyword.ad.daum.net/short/clk?q=FJwV5ZPZxEv-cmat--BfGc-VFgVY_ywEZDeXqr8UuFq9RLGpcSrZ.Puw_nbz77WAHOUk2kMxi.7-HJ6MWvV-4_y28xj6t6DEeGhK9t_SzLuQrl5UIwU8XBlFMVwp-dX-8RmIxJ4lIi.Qv47rPKU5eyAKz_fg9C2xK_GIgisfcffjW.3M_hPMc5gvDjfrfE4Qzw43mBioliIdu8a4c5eTxA_QktZEeOH1raEiKzskY2cFnvRn66c4Ihl.WwLdL-RCHhe2xMiaxWUP2HmztkIR5HYzDTcpWwJNjAmftzH3kaTWTd51Q6zp6fg3N4kkHi7QJN3UB9iU9pOh7ndeAUrNYI8wA1TN8iy5fVtUxoCj.we9QHnbYs--iKvqMn468UPWIkQ0&s=https%3A%2F%2Fhome.sjcu.ac.kr%2Fko%2Fcms%2FFR_CON%2Findex.do%3FMENU_ID%3D2470%26utm_source%3DSA%26utm_medium%3DDAUM_PC%26utm_campaign%3DSPRING1%26utm_content%3DKEYWORD%26utm_term%3D%ED%8C%8C%EC%9D%B4%EC%8D%AC%26DMKW%3D%25ED%258C%258C%25EC%259D%25B4%25EC%258D%25AC%26DMSKW%3D%25ED%258C%258C%25EC%259D%25B4%25EC%258D%25AC%26DMCOL%3DPM\n",
      "가비아 파이썬 호스팅 오픈\n",
      "https://keyword.ad.daum.net/short/clk?q=FKiUTkWDH-g8dB5iyg3S39Gp6-WgUfZ6-zdcgMt4PFPEMcpH7Xw7YOGdpFOz.7xw_xoRkOv1QB1UP8UEp7t.YgGDArWJzg27C2TLffvBT8PCZWPFgPy5ZbQ5TqVTu8tMIiDJLka..r.y3C1TinV4-95U13B-2VdWcsvMZ9iP3qlP.AiuwvHRS38c11J-_pmCP2crc6mrUyNnbw00&s=https%3A%2F%2Fwww.gabia.com%2Fad.php%3Fad%3DAD-0060251\n",
      "더조은컴퓨터아카데미 공식\n",
      "https://keyword.ad.daum.net/short/clk?q=FK_GhBMqkTBFh8_8gjor6fHCT3iFupw_fG4D7eLKYo6THJdre4H19TnfL6FrWpg3AiTmuP67rR35qk-IqxkiwtHmFoLL63nUgQXKUvxlP4m1w6KxybDLJo.k6s_OvQldK9W2n.C1JYsA.sCKm9Md9msG5B6hNeQl6C3IIwbM_6rfB8UT1it_TxlMnfERb5n9YW4RTKyr31msFvlAn4tf.o78dDysv8jdc2MgjLEfIMJ6jjlESWtKilUNTrRUsYfMoSpujAU1YgjouyQkL_cHvjxRdRMVY5og1H.fl7.Cr5UtBK7LzYOumlAZi65627UpzaA0&s=http%3A%2F%2Ftjoeun.co.kr%2Ffront%2Flecture%2Fit_course.asp%3Futm_source%3Ddaum%26utm_medium%3Dcpc%26utm_campaign%3Dpremiumlink%26utm_content%3Dcontent%26DMKW%3D%25ED%258C%258C%25EC%259D%25B4%25EC%258D%25AC%26DMSKW%3D%25ED%258C%258C%25EC%259D%25B4%25EC%258D%25AC%26DMCOL%3DPM\n",
      "로봇제어를 위한 파이썬 - 11\n",
      "http://blog.daum.net/kimgyunghyun/2860\n",
      "파이썬_24\n",
      "http://blog.daum.net/wrblog/30\n",
      "파이썬_32\n",
      "http://blog.daum.net/wrblog/42\n",
      "[파이썬, Python] 안녕, 파이썬?\n",
      "http://blog.daum.net/kkh91/16\n",
      "1. 파이썬 기본\n",
      "http://blog.daum.net/biuea1/6\n",
      "3D프린터 로봇제어를 위한 파이썬 (코딩언어)\n",
      "http://blog.daum.net/kimgyunghyun/2538\n",
      "파이썬 3.8.1 라이브러리\n",
      "http://blog.daum.net/sualchi/13720846\n",
      "[파이썬, Python] 파이썬 웹 표준 라이브러리\n",
      "http://blog.daum.net/kkh91/19\n",
      "[파이썬] 1일차.\n",
      "http://blog.daum.net/rzenms/2\n",
      "파이썬 주식 크롤링 주식이 필요하십니까?\n",
      "http://blog.daum.net/jinhaili845/4388\n"
     ]
    }
   ],
   "source": [
    "import requests\n",
    "from bs4 import BeautifulSoup\n",
    "\n",
    "response = requests.get(\"http://search.daum.net/search?w=blog&f=section&m=&SA=daumsec&lpp=10&nil_profile=vsearch&nil_src=blog&q=%ED%8C%8C%EC%9D%B4%EC%8D%AC\")\n",
    "dom = BeautifulSoup(response.text,\"html.parser\")\n",
    "# dom\n",
    "post_elements = dom.select(\"div.coll_cont > ul.list_info > li\")\n",
    "# post_elements\n",
    "\n",
    "for post_element in post_elements:\n",
    "    title_element = post_element.select_one(\"div.wrap_tit > a\")\n",
    "    title = title_element.text\n",
    "    url = title_element.attrs.get(\"href\")\n",
    "    print(title)\n",
    "    print(url)"
   ]
  },
  {
   "cell_type": "markdown",
   "metadata": {},
   "source": [
    "### 관련 검색어 텍스트 추출"
   ]
  },
  {
   "cell_type": "code",
   "execution_count": 16,
   "metadata": {
    "collapsed": true
   },
   "outputs": [
    {
     "data": {
      "text/plain": [
       "['파이썬 강좌',\n",
       " '파이썬 프로그래밍',\n",
       " '파이썬 책',\n",
       " '파이썬 뱀',\n",
       " '파이썬 다운로드',\n",
       " '파이썬 예제',\n",
       " '파이썬 맵',\n",
       " '파이썬 아나콘다',\n",
       " '파이썬 설치',\n",
       " '파이썬 자격증',\n",
       " '파이썬 활용',\n",
       " '파일썬',\n",
       " 'python',\n",
       " '파이썬 학원',\n",
       " '파이썬 코딩',\n",
       " '파이썬 기초',\n",
       " '파이썬 강의',\n",
       " '파이썬 R',\n",
       " '파이썬 교재',\n",
       " '파이썬 주식',\n",
       " '파이썬 강좌',\n",
       " '파이썬 프로그래밍',\n",
       " '파이썬 책',\n",
       " '파이썬 뱀',\n",
       " '파이썬 다운로드',\n",
       " '파이썬 예제',\n",
       " '파이썬 맵',\n",
       " '파이썬 아나콘다',\n",
       " '파이썬 설치',\n",
       " '파이썬 자격증',\n",
       " '파이썬 활용',\n",
       " '파일썬',\n",
       " 'python',\n",
       " '파이썬 학원',\n",
       " '파이썬 코딩',\n",
       " '파이썬 기초',\n",
       " '파이썬 강의',\n",
       " '파이썬 R',\n",
       " '파이썬 교재',\n",
       " '파이썬 주식']"
      ]
     },
     "execution_count": 16,
     "metadata": {},
     "output_type": "execute_result"
    }
   ],
   "source": [
    "[\n",
    "    releated_keyword_element.text\n",
    "    for releated_keyword_element\n",
    "    in dom.select(\".wsn\")\n",
    "]\n"
   ]
  },
  {
   "cell_type": "markdown",
   "metadata": {},
   "source": [
    "#### 동적 사이트 : yogiyo.co.kr\n",
    "\n",
    "- 서구 계룡로 636\n",
    "- 음식점 리스트 크롤링\n",
    "- 새로고침하면 빙글빙글... 돌면서 서버로부터 데이터를 불러오는 동적 사이트이다.\n",
    "- 개발자 도구 > 네트워크 탭 > 새로고침 > ?item=60&lat= ~~~~~~ 주소는 \n",
    "- https://www.yogiyo.co.kr/api/v1/restaurants-geo/?items=60&lat=36.3385369684327&lng=127.392457108024&order=rank&page=0&search="
   ]
  },
  {
   "cell_type": "code",
   "execution_count": 27,
   "metadata": {},
   "outputs": [],
   "source": [
    "url = \"https://www.yogiyo.co.kr/api/v1/restaurants-geo/?items=60&lat=36.3385369684327&lng=127.392457108024&order=rank&page=0&search=\"\n",
    "headers = {\n",
    "    \"x-apikey\": \"iphoneap\",\n",
    "    \"x-apisecret\": \"fe5183cc3dea12bd0ce299cf110a75a2\"\n",
    "}\n",
    "\n",
    "response = requests.get(url,headers = headers)\n",
    "yogiyo = response.json()\n",
    "# yogiyo\n"
   ]
  },
  {
   "cell_type": "code",
   "execution_count": 29,
   "metadata": {},
   "outputs": [
    {
     "data": {
      "text/plain": [
       "['피자마켓-대전서구점',\n",
       " '묵은지김치찌개전문점',\n",
       " '맘스터치-서대전점',\n",
       " '네네치킨-탄방점',\n",
       " 'BBQ-대전탄방행운점',\n",
       " '코리엔탈깻잎두마리치킨-둔산점',\n",
       " '파파존스-대전둔산점',\n",
       " '피자헛-대전탄방점',\n",
       " '네오피자-대전서구점',\n",
       " '버거킹-대전용문역점',\n",
       " '빅스타피자-대전탄방점',\n",
       " '쫄면주는삼겹본능-대전갈마점',\n",
       " '멕시카나-롯데괴정점',\n",
       " '도미노피자-대전용문점',\n",
       " '또래오래-대전갈마점',\n",
       " '파리바게뜨-대전괴정점',\n",
       " '피자알볼로-둔산점',\n",
       " '아웃백-둔산점',\n",
       " '공차-대전용문점',\n",
       " '미스터피자-서대전점',\n",
       " '배달삼겹돼지되지-대전1호점',\n",
       " '놀부부대찌개-대전둔산법원점',\n",
       " '흥부찜닭-대전갈마점',\n",
       " '뽕뜨락피자-태평2점',\n",
       " '큰맘할매순대국-둔산점',\n",
       " '세븐일레븐-대전용문무지개점',\n",
       " '놀부보쌈-대전둔산법원점',\n",
       " '엔제리너스-대전괴정점',\n",
       " '뉴욕버거앤치킨-둔산점',\n",
       " 'TGIF-롯데대전점',\n",
       " '파스쿠찌-대전롯데점',\n",
       " '박가부대-대전세이탄방점',\n",
       " '국수나무-대전가장점',\n",
       " '행컵-배재대점',\n",
       " '맥도날드-대전가장DT점',\n",
       " '황금루',\n",
       " '세븐일레븐-대전용문스타점',\n",
       " '대박냄비짬뽕',\n",
       " 'KFC-대전시청역점',\n",
       " '심쿵떡볶이-갈마점',\n",
       " '청와대반점',\n",
       " '카페시스티나',\n",
       " '화덕통삼겹살&보쌈',\n",
       " '진짜장',\n",
       " '네네치킨-탄방점',\n",
       " '롯데리아-대전가장점',\n",
       " '파파존스-대전둔산점',\n",
       " '배재골',\n",
       " '상무초밥-둔산직영점',\n",
       " 'GS25-탄방시티점',\n",
       " '맘스터치-서대전점',\n",
       " '푸라닭-대전괴정점',\n",
       " '쿠잉',\n",
       " '신사천성사천냉면',\n",
       " 'BBQ-대전탄방행운점',\n",
       " '피자마켓-대전서구점',\n",
       " '코리엔탈깻잎두마리치킨-둔산점',\n",
       " '더바스켓-둔산점',\n",
       " '혼밥대왕-서구점',\n",
       " '바른초밥-동구점']"
      ]
     },
     "execution_count": 29,
     "metadata": {},
     "output_type": "execute_result"
    }
   ],
   "source": [
    "[\n",
    "    restaurant.get(\"name\")\n",
    "    for restaurant\n",
    "    in yogiyo.get(\"restaurants\")\n",
    "]"
   ]
  },
  {
   "cell_type": "markdown",
   "metadata": {},
   "source": [
    "#### Q1 : naver blog에서 검색어 \"파이썬\"으로 검색된 주소와 타이틀을 추출하시오"
   ]
  },
  {
   "cell_type": "code",
   "execution_count": 64,
   "metadata": {},
   "outputs": [
    {
     "name": "stdout",
     "output_type": "stream",
     "text": [
      "파이썬 학원 집중해야 할 포인트\n",
      "https://blog.naver.com/km_y?Redirect=Log&logNo=222122522937\n",
      "파이썬(Phython)이 스타트업에게 인기있는 이유 7가지\n",
      "http://blog.wishket.com/%ED%8C%8C%EC%9D%B4%EC%8D%ACpython%EC%9D%B4-%EC%8A%A4%ED%83%80%ED%8A%B8%EC%97%85%EC%97%90%EA%B2%8C-%EC%9D%B8%EA%B8%B0%EC%9E%88%EB%8A%94-%EC%9D%B4%EC%9C%A0-7%EA%B0%80%EC%A7%80/\n",
      "전주코딩학원에서 블록코딩 파이썬 C언어 C++ 함께 배워봐요\n",
      "https://blog.naver.com/stupid1714?Redirect=Log&logNo=222120011506\n",
      "파이썬 학원 : 자기개발과 취업, 무엇을 목표로 시작하나요?\n",
      "https://blog.naver.com/urmyver?Redirect=Log&logNo=222050113272\n",
      "[스파르타 코딩클럽] 2편 추석특집 파이썬 혼자놀기 후기\n",
      "https://blog.naver.com/collectjin?Redirect=Log&logNo=222139169869\n",
      "파이썬 학원 중요시 여겨야할 부분!\n",
      "https://blog.naver.com/sujung1540?Redirect=Log&logNo=222124538409\n",
      "파이썬 설치 다운로드부터 해야겠죠?\n",
      "https://blog.naver.com/sweetk2ss?Redirect=Log&logNo=221954566322\n",
      "파이썬자격증 종류와 취득방법 알아보자!\n",
      "https://blog.naver.com/ridesafe?Redirect=Log&logNo=222049951715\n",
      "파이썬 학원 실력이 곧 스펙\n",
      "https://blog.naver.com/bayern?Redirect=Log&logNo=222123658846\n",
      "파이썬(Python) - 아나콘다(Anaconda) 설치하기 - 윈도우편\n",
      "https://blog.naver.com/chandong83?Redirect=Log&logNo=222128977072\n",
      "round와 abs함수_파이썬 하루 10분 혼공\n",
      "https://blog.naver.com/nasu0210?Redirect=Log&logNo=222106660964\n",
      "100일 프로젝트(파이썬, 영어) 절반의 기록\n",
      "https://blog.naver.com/ddangkong555?Redirect=Log&logNo=222148331212\n",
      "파이썬인강 프로그래밍 막막하셨다면\n",
      "https://blog.naver.com/skyktc?Redirect=Log&logNo=222070357069\n",
      "클룸 , 파이썬 프로그래밍 무료강좌 굳 ~\n",
      "https://blog.naver.com/joonki3?Redirect=Log&logNo=222146327768\n",
      "라즈베리파이 + 파이썬 + OpenCV를 이용하여 원하는 얼굴... \n",
      "https://blog.naver.com/cosmosjs?Redirect=Log&logNo=222133691651\n",
      "파이썬 웹 프로그래밍 Django로 입문\n",
      "https://blog.naver.com/urmyver?Redirect=Log&logNo=222079389364\n",
      "코딩교육으로 창직하는 미래 인재 되기. feat. 파이썬(Python)\n",
      "https://blog.naver.com/cms_edu?Redirect=Log&logNo=222133178820\n",
      "[아두이노 QnA] 파이썬으로 아두이노 제어하기_3\n",
      "https://blog.naver.com/dokkosam?Redirect=Log&logNo=222110156132\n",
      "[IT/Python] 문과생의 코딩 독학 :: 1강 _ 파이썬 이란?\n",
      "https://blog.naver.com/mhs6425?Redirect=Log&logNo=222146099981\n",
      "파이썬학원 기준을 만들어 볼까?\n",
      "https://blog.naver.com/yosuleye?Redirect=Log&logNo=222051096665\n",
      "알고리즘 트레이딩 - 파이썬을 활용한 금융 API 준비하는 방법은?\n",
      "https://blog.naver.com/ridesafe?Redirect=Log&logNo=222069600885\n",
      "강남파이썬학원 손쉽게 프로그래밍을 시작해요!\n",
      "https://blog.naver.com/kimbg20?Redirect=Log&logNo=222078236845\n",
      "파이썬 딥러닝 파이토치\n",
      "https://blog.naver.com/infopub?Redirect=Log&logNo=222102637559\n",
      "파이썬 숫자 출력하기_하루 10분 혼공\n",
      "https://blog.naver.com/nasu0210?Redirect=Log&logNo=222105195536\n",
      "파이썬 머신러닝, 2개월 투자해서 프로젝트 완성까지!\n",
      "https://blog.naver.com/hjchoi1500?Redirect=Log&logNo=222122766548\n",
      "파이썬강의 여기서 한 번에 듣자\n",
      "https://blog.naver.com/skyktc?Redirect=Log&logNo=222040292217\n",
      "코드잇 (CODEIT) 으로 파이썬 독학 시작 :-)\n",
      "https://blog.naver.com/nancy_jh?Redirect=Log&logNo=222118626175\n",
      "라즈베리파이 + 파이썬 + OpenCV를 이용하여 원하는 얼굴... \n",
      "https://blog.naver.com/cosmosjs?Redirect=Log&logNo=222120715480\n",
      "파이썬 프로그래밍 : 무엇을 목표로 공부하나요?\n",
      "https://blog.naver.com/urmyver?Redirect=Log&logNo=222022605548\n",
      "데이터분석 툴 파이썬, R프로그래밍 클룸에서 무료강의 듣기\n",
      "https://blog.naver.com/skylights2?Redirect=Log&logNo=222149151027\n"
     ]
    }
   ],
   "source": [
    "import requests\n",
    "from bs4 import BeautifulSoup\n",
    "\n",
    "url = \"https://search.naver.com/search.naver?query=%ED%8C%8C%EC%9D%B4%EC%8D%AC&nso=&where=blog&sm=tab_viw.all\"\n",
    "response = requests.get(url)\n",
    "\n",
    "dom = BeautifulSoup(response.text, \"html.parser\")\n",
    "post_elements = dom.select(\"div._more_contents_event_base > ul.lst_total > li.bx\")\n",
    "\n",
    "for post_element in post_elements:\n",
    "    title_element = post_element.select_one(\"div.total_wrap > a.api_txt_lines.total_tit\") \n",
    "    title = title_element.text\n",
    "    url = title_element.attrs.get(\"href\") \n",
    "    print(title)\n",
    "    print(url)"
   ]
  },
  {
   "cell_type": "code",
   "execution_count": null,
   "metadata": {},
   "outputs": [],
   "source": []
  }
 ],
 "metadata": {
  "kernelspec": {
   "display_name": "Python 3",
   "language": "python",
   "name": "python3"
  },
  "language_info": {
   "codemirror_mode": {
    "name": "ipython",
    "version": 3
   },
   "file_extension": ".py",
   "mimetype": "text/x-python",
   "name": "python",
   "nbconvert_exporter": "python",
   "pygments_lexer": "ipython3",
   "version": "3.8.6"
  }
 },
 "nbformat": 4,
 "nbformat_minor": 4
}
