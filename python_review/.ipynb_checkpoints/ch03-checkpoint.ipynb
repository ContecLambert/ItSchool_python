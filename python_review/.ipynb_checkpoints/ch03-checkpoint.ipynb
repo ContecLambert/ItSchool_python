{
 "cells": [
  {
   "cell_type": "code",
   "execution_count": 19,
   "metadata": {},
   "outputs": [
    {
     "data": {
      "text/plain": [
       "['', 'two', 'three', 'two', '', 'twothree', '', 'two', 'three', 'two']"
      ]
     },
     "execution_count": 19,
     "metadata": {},
     "output_type": "execute_result"
    }
   ],
   "source": [
    "[\n",
    "#     \"twothree\" if (i+1)%6 ==0 else \"\" +\n",
    "    (\"two\" if (i+1)%2 ==0 else \"\")+\n",
    "    (\"three\" if (i+1)%3==0 else \"\")\n",
    "    for i\n",
    "    in range(10)\n",
    "]"
   ]
  },
  {
   "cell_type": "code",
   "execution_count": 20,
   "metadata": {},
   "outputs": [
    {
     "data": {
      "text/plain": [
       "30"
      ]
     },
     "execution_count": 20,
     "metadata": {},
     "output_type": "execute_result"
    }
   ],
   "source": [
    "def get_sum(a,b,c):\n",
    "    return a+b+c\n",
    "get_sum(10,10,10)"
   ]
  },
  {
   "cell_type": "code",
   "execution_count": 21,
   "metadata": {},
   "outputs": [
    {
     "name": "stdout",
     "output_type": "stream",
     "text": [
      "(1, 2, 3, 4, 5, 6, 7)\n"
     ]
    },
    {
     "data": {
      "text/plain": [
       "28"
      ]
     },
     "execution_count": 21,
     "metadata": {},
     "output_type": "execute_result"
    }
   ],
   "source": [
    "def get_sum(*args):\n",
    "    print(args)\n",
    "    result =0\n",
    "    for arg in args:\n",
    "        result += arg\n",
    "    return result\n",
    "get_sum(1,2,3,4,5,6,7)"
   ]
  },
  {
   "cell_type": "code",
   "execution_count": 22,
   "metadata": {},
   "outputs": [
    {
     "name": "stdout",
     "output_type": "stream",
     "text": [
      "(1, 2, 3, 4, 5)\n"
     ]
    },
    {
     "data": {
      "text/plain": [
       "15"
      ]
     },
     "execution_count": 22,
     "metadata": {},
     "output_type": "execute_result"
    }
   ],
   "source": [
    "data = (1,2,3,4,5)\n",
    "get_sum(*data)"
   ]
  },
  {
   "cell_type": "code",
   "execution_count": 23,
   "metadata": {},
   "outputs": [],
   "source": [
    "def hello(**kwargs):\n",
    "    print(kwargs)"
   ]
  },
  {
   "cell_type": "code",
   "execution_count": 24,
   "metadata": {},
   "outputs": [
    {
     "name": "stdout",
     "output_type": "stream",
     "text": [
      "{'name': 'hong', 'email': 'hong@gmail.com'}\n"
     ]
    }
   ],
   "source": [
    "hello(name=\"hong\",email=\"hong@gmail.com\")"
   ]
  },
  {
   "cell_type": "code",
   "execution_count": 27,
   "metadata": {},
   "outputs": [],
   "source": [
    "student= {\"name\":\"hong\",\"email\":\"hong@gmail.com\"}"
   ]
  },
  {
   "cell_type": "code",
   "execution_count": 29,
   "metadata": {},
   "outputs": [
    {
     "name": "stdout",
     "output_type": "stream",
     "text": [
      "{'name': 'hong', 'email': 'hong@gmail.com'}\n"
     ]
    }
   ],
   "source": [
    "hello(**student)"
   ]
  },
  {
   "cell_type": "code",
   "execution_count": 30,
   "metadata": {},
   "outputs": [
    {
     "name": "stdout",
     "output_type": "stream",
     "text": [
      "{'name': 'hong', 'email': 'hong@gmail.com'}\n"
     ]
    }
   ],
   "source": [
    "hello(**{\"name\":\"hong\",\"email\":\"hong@gmail.com\"})"
   ]
  },
  {
   "cell_type": "code",
   "execution_count": 31,
   "metadata": {},
   "outputs": [],
   "source": [
    "def hello(*args, **kwargs):\n",
    "    print(args)\n",
    "    print(kwargs)"
   ]
  },
  {
   "cell_type": "code",
   "execution_count": 32,
   "metadata": {},
   "outputs": [
    {
     "name": "stdout",
     "output_type": "stream",
     "text": [
      "(1, 2, 3)\n",
      "{'name': 'hong'}\n"
     ]
    }
   ],
   "source": [
    "hello(1,2,3,name=\"hong\")"
   ]
  },
  {
   "cell_type": "code",
   "execution_count": 33,
   "metadata": {},
   "outputs": [],
   "source": [
    "def info(name,email,*args,**kwargs):\n",
    "    print(\"안녕하세요 \" + name + \"입니다\")\n",
    "    print(\"이메일은 \"+ email)\n",
    "    print(\"----------------------------\")\n",
    "    print(kwargs)\n",
    "    print(\"----------------------------\")"
   ]
  },
  {
   "cell_type": "code",
   "execution_count": 39,
   "metadata": {},
   "outputs": [
    {
     "name": "stdout",
     "output_type": "stream",
     "text": [
      "안녕하세요양희원입니다\n",
      "이메일은yhw5129@naver.com\n",
      "----------------------------\n",
      "{'나이': 26, '핸드폰번호': '01099595129'}\n",
      "----------------------------\n"
     ]
    }
   ],
   "source": [
    "info(\"양희원\",\"yhw5129@naver.com\",나이=26,핸드폰번호=\"01099595129\")"
   ]
  },
  {
   "cell_type": "code",
   "execution_count": 6,
   "metadata": {},
   "outputs": [
    {
     "name": "stdout",
     "output_type": "stream",
     "text": [
      "안녕하세요, 저는 20살 홍길동 입니다.\n"
     ]
    }
   ],
   "source": [
    "class Person():\n",
    "    name = \"홍길동\"\n",
    "    age = 20\n",
    "    \n",
    "    def introduce(self):\n",
    "        print(\"안녕하세요, 저는 {age}살 {name} 입니다.\".format(age=self.age, name=self.name))\n",
    "\n",
    "hong = Person()\n",
    "hong.introduce()"
   ]
  },
  {
   "cell_type": "code",
   "execution_count": 10,
   "metadata": {},
   "outputs": [
    {
     "data": {
      "text/plain": [
       "<__main__.Person at 0x15e14cb8160>"
      ]
     },
     "execution_count": 10,
     "metadata": {},
     "output_type": "execute_result"
    }
   ],
   "source": [
    "hong = Person()\n",
    "hong"
   ]
  },
  {
   "cell_type": "code",
   "execution_count": 21,
   "metadata": {},
   "outputs": [],
   "source": [
    "class Person():\n",
    "    def __init__(self,name,age,*args, **kwargs):\n",
    "        self.name =name\n",
    "        self.age = age\n",
    "    \n",
    "    def introduce(self):\n",
    "        print(\"안녕하세요, 저는 {age}살 {name} 입니다.\".format(age=self.age, name=self.name))\n",
    "    \n",
    "    def meet(self,another):\n",
    "        print(\"{myname}이 {yourname}을 만났습니다.\".format(\n",
    "        myname = self.name,\n",
    "        yourname = another.name))\n",
    "    "
   ]
  },
  {
   "cell_type": "code",
   "execution_count": 147,
   "metadata": {},
   "outputs": [],
   "source": [
    "class Person():\n",
    "    def __init__(self,name,age,money):\n",
    "        self.name =name\n",
    "        self.age = age\n",
    "        self.money = money\n",
    "    \n",
    "    def __str__(self):\n",
    "        return (\"이름은 {}입니다.\".format(self.name))\n",
    "    \n",
    "    def __add__(self,partner):\n",
    "        print(\"{} & {} | 결혼을 축하합니다.\".format(\n",
    "        self.name,\n",
    "        partner.name))\n",
    "    \n",
    "    def introduce(self):\n",
    "        print(\"안녕하세요, 저는 {}살 {} 입니다.\".format(self.age, self.name))\n",
    "    \n",
    "    def meet(self,another):\n",
    "        print(\"{}이 {}을 만났습니다.\".format(\n",
    "        self.name,\n",
    "        another.name))\n",
    "    \n",
    "    def give(self, partner,amount):\n",
    "        self.money -= amount\n",
    "        partner.money += amount\n",
    "        \n",
    "    def merried(self, another):\n",
    "        print(\"{}과 {}의 결혼을 축하합니다.\".format(\n",
    "        self.name,\n",
    "        another.name))"
   ]
  },
  {
   "cell_type": "code",
   "execution_count": 148,
   "metadata": {},
   "outputs": [],
   "source": [
    "lee = Person(\"이도령\", 30,1000)"
   ]
  },
  {
   "cell_type": "code",
   "execution_count": 149,
   "metadata": {},
   "outputs": [],
   "source": [
    "hong = Person(\"홍길동\",20,10000)"
   ]
  },
  {
   "cell_type": "code",
   "execution_count": 150,
   "metadata": {},
   "outputs": [
    {
     "name": "stdout",
     "output_type": "stream",
     "text": [
      "안녕하세요, 저는 20살 홍길동 입니다.\n"
     ]
    }
   ],
   "source": [
    "hong.introduce()"
   ]
  },
  {
   "cell_type": "code",
   "execution_count": 151,
   "metadata": {},
   "outputs": [
    {
     "name": "stdout",
     "output_type": "stream",
     "text": [
      "홍길동이 이도령을 만났습니다.\n"
     ]
    }
   ],
   "source": [
    "hong.meet(lee)"
   ]
  },
  {
   "cell_type": "code",
   "execution_count": 152,
   "metadata": {},
   "outputs": [
    {
     "name": "stdout",
     "output_type": "stream",
     "text": [
      "홍길동과 이도령의 결혼을 축하합니다.\n"
     ]
    }
   ],
   "source": [
    "hong.merried(lee)"
   ]
  },
  {
   "cell_type": "code",
   "execution_count": 153,
   "metadata": {},
   "outputs": [
    {
     "name": "stdout",
     "output_type": "stream",
     "text": [
      "홍길동 & 이도령 | 결혼을 축하합니다.\n"
     ]
    }
   ],
   "source": [
    "hong + lee"
   ]
  },
  {
   "cell_type": "code",
   "execution_count": 154,
   "metadata": {},
   "outputs": [],
   "source": [
    "hong.give(lee,2000)"
   ]
  },
  {
   "cell_type": "code",
   "execution_count": 155,
   "metadata": {},
   "outputs": [
    {
     "data": {
      "text/plain": [
       "8000"
      ]
     },
     "execution_count": 155,
     "metadata": {},
     "output_type": "execute_result"
    }
   ],
   "source": [
    "hong.money"
   ]
  },
  {
   "cell_type": "code",
   "execution_count": 156,
   "metadata": {},
   "outputs": [
    {
     "data": {
      "text/plain": [
       "3000"
      ]
     },
     "execution_count": 156,
     "metadata": {},
     "output_type": "execute_result"
    }
   ],
   "source": [
    "lee.money"
   ]
  },
  {
   "cell_type": "code",
   "execution_count": 145,
   "metadata": {},
   "outputs": [],
   "source": [
    "data = [\n",
    "    {\"name\":\"사람0\",\"age\":20,\"money\":1000},\n",
    "    {\"name\":\"사람1\",\"age\":30,\"money\":2000},\n",
    "    {\"name\":\"사람2\",\"age\":40,\"money\":3000},\n",
    "    {\"name\":\"사람3\",\"age\":50,\"money\":9000}\n",
    "]"
   ]
  },
  {
   "cell_type": "code",
   "execution_count": null,
   "metadata": {},
   "outputs": [],
   "source": []
  },
  {
   "cell_type": "code",
   "execution_count": null,
   "metadata": {},
   "outputs": [],
   "source": []
  },
  {
   "cell_type": "code",
   "execution_count": null,
   "metadata": {},
   "outputs": [],
   "source": []
  }
 ],
 "metadata": {
  "kernelspec": {
   "display_name": "Python 3",
   "language": "python",
   "name": "python3"
  },
  "language_info": {
   "codemirror_mode": {
    "name": "ipython",
    "version": 3
   },
   "file_extension": ".py",
   "mimetype": "text/x-python",
   "name": "python",
   "nbconvert_exporter": "python",
   "pygments_lexer": "ipython3",
   "version": "3.8.6"
  }
 },
 "nbformat": 4,
 "nbformat_minor": 4
}
