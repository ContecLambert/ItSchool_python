{
 "cells": [
  {
   "cell_type": "markdown",
   "metadata": {},
   "source": [
    "### 정적 사이트 (Server rendering)\n",
    "\n",
    "- html data를 가지고 온다\n",
    "- 받아온 데이터에서 적절한 값을 추출하는 과정 ==>parsing\n",
    "- blog 검색결과\n",
    "- HTML Tag : ul>ll>{text}\n",
    "\n",
    "### 동적 사이트 (Client rendering)\n",
    "\n",
    "- 어디에선가 (_________ => API) 찾는 과정\n",
    "- 데이터를 불러오고\n",
    "- 데이터를 추출한다 =>parsing"
   ]
  }
 ],
 "metadata": {
  "kernelspec": {
   "display_name": "Python 3",
   "language": "python",
   "name": "python3"
  },
  "language_info": {
   "codemirror_mode": {
    "name": "ipython",
    "version": 3
   },
   "file_extension": ".py",
   "mimetype": "text/x-python",
   "name": "python",
   "nbconvert_exporter": "python",
   "pygments_lexer": "ipython3",
   "version": "3.8.6"
  }
 },
 "nbformat": 4,
 "nbformat_minor": 4
}
