{
 "cells": [
  {
   "cell_type": "code",
   "execution_count": 40,
   "metadata": {},
   "outputs": [
    {
     "name": "stdout",
     "output_type": "stream",
     "text": [
      "[{'Korean Name': 'Korean Name', 'English Name': ' English Name', 'size': ' size'}, {'Korean Name': '강아지', 'English Name': ' dog', 'size': '중형'}, {'Korean Name': '고양이', 'English Name': ' cat', 'size': '소형'}, {'Korean Name': '물고기', 'English Name': ' fish', 'size': '초소형'}, {'Korean Name': '원숭이', 'English Name': ' monkey', 'size': '대형'}]\n"
     ]
    }
   ],
   "source": [
    "with open(\"animal.csv\", \"r\") as fp:\n",
    "    result = []\n",
    "    data = fp.read()\n",
    "    rows = data.split(\"\\n\")\n",
    "#     print(len(rows))\n",
    "    \n",
    "    for  row in rows:\n",
    "        animal = {\n",
    "            \"Korean Name\": row.split(\",\")[0] ,\n",
    "            \"English Name\" : row.split(\",\")[1],\n",
    "            \"size\": row.split(\",\")[2]\n",
    "        }\n",
    "        result.append(animal)\n",
    "        \n",
    "print(result)"
   ]
  },
  {
   "cell_type": "code",
   "execution_count": 27,
   "metadata": {},
   "outputs": [],
   "source": [
    "with open(\"animal.csv\", \"r\") as fp:\n",
    "    rows = fp.read().split(\"\\n\")"
   ]
  },
  {
   "cell_type": "code",
   "execution_count": 28,
   "metadata": {},
   "outputs": [
    {
     "data": {
      "text/plain": [
       "['Korean Name, English Name, size',\n",
       " '강아지, dog, 중형',\n",
       " '고양이, cat, 소형',\n",
       " '물고기, fish, 초소형',\n",
       " '원숭이, monkey, 대형']"
      ]
     },
     "execution_count": 28,
     "metadata": {},
     "output_type": "execute_result"
    }
   ],
   "source": [
    "rows"
   ]
  },
  {
   "cell_type": "code",
   "execution_count": 29,
   "metadata": {},
   "outputs": [
    {
     "data": {
      "text/plain": [
       "'Korean Name, English Name, size'"
      ]
     },
     "execution_count": 29,
     "metadata": {},
     "output_type": "execute_result"
    }
   ],
   "source": [
    "rows[0]"
   ]
  },
  {
   "cell_type": "code",
   "execution_count": 30,
   "metadata": {},
   "outputs": [
    {
     "data": {
      "text/plain": [
       "['강아지, dog, 중형', '고양이, cat, 소형', '물고기, fish, 초소형', '원숭이, monkey, 대형']"
      ]
     },
     "execution_count": 30,
     "metadata": {},
     "output_type": "execute_result"
    }
   ],
   "source": [
    "rows[1:]"
   ]
  },
  {
   "cell_type": "code",
   "execution_count": 53,
   "metadata": {},
   "outputs": [
    {
     "name": "stdout",
     "output_type": "stream",
     "text": [
      "[{'Korean Name': '강아지', ' English Name': ' dog', ' size': '중형'}, {'Korean Name': '고양이', ' English Name': ' cat', ' size': '소형'}, {'Korean Name': '물고기', ' English Name': ' fish', ' size': '초소형'}, {'Korean Name': '원숭이', ' English Name': ' monkey', ' size': '대형'}]\n"
     ]
    }
   ],
   "source": [
    "with open(\"animal.csv\",\"r\") as fp:\n",
    "    result = []\n",
    "    data = fp.read()\n",
    "    rows = data.split(\"\\n\")\n",
    "    # 1. 컬럼을 빼낸다\n",
    "    columns = rows[0].split(\",\")\n",
    "#     print(columns)\n",
    "    # 2. 데이터만 빼낸다\n",
    "    for row in rows[1:]:\n",
    "        row_data = row.split(\",\")\n",
    "#         print(row_data)\n",
    "        row_dict = {}\n",
    "    \n",
    "#         column을 for문 돌리면서 컬럼에 해당하는 데이터를 추가한다\n",
    "        for column_index in range(len(columns)):\n",
    "            column = columns[column_index]\n",
    "#             print(column_index)\n",
    "            row_dict[column] = row_data[column_index]\n",
    "#             print(column)\n",
    "        result.append(row_dict)\n",
    "    print(result)"
   ]
  },
  {
   "cell_type": "code",
   "execution_count": 34,
   "metadata": {},
   "outputs": [],
   "source": [
    "def read_csv(filepath):\n",
    "    with open(filepath,\"r\") as fp:\n",
    "        result = []\n",
    "        data = fp.read()\n",
    "        rows = data.split(\"\\n\")\n",
    "        \n",
    "        columns = rows[0].split(\",\")\n",
    "        \n",
    "        for row in rows[1:]:\n",
    "            row_data = row.split(\",\")\n",
    "#         print(row_data)\n",
    "            row_dict = {}\n",
    "    \n",
    "#         column을 for문 돌리면서 컬럼에 해당하는 데이터를 추가한다\n",
    "            for column_index in range(len(columns)):\n",
    "                column = columns[column_index]\n",
    "#             print(column_index)\n",
    "                row_dict[column] = row_data[column_index]\n",
    "#             print(column)\n",
    "            result.append(row_dict)\n",
    "        return result"
   ]
  },
  {
   "cell_type": "code",
   "execution_count": 58,
   "metadata": {},
   "outputs": [
    {
     "data": {
      "text/plain": [
       "[{'Korean Name': '강아지', ' English Name': ' dog', ' size': '중형'},\n",
       " {'Korean Name': '고양이', ' English Name': ' cat', ' size': '소형'},\n",
       " {'Korean Name': '물고기', ' English Name': ' fish', ' size': '초소형'},\n",
       " {'Korean Name': '원숭이', ' English Name': ' monkey', ' size': '대형'}]"
      ]
     },
     "execution_count": 58,
     "metadata": {},
     "output_type": "execute_result"
    }
   ],
   "source": [
    "read_csv(\"animal.csv\")"
   ]
  },
  {
   "cell_type": "code",
   "execution_count": 59,
   "metadata": {},
   "outputs": [],
   "source": [
    "def read_csv(filepath, separator = \",\"):\n",
    "    with open(filepath,\"r\") as fp:\n",
    "        result = []\n",
    "        data = fp.read()\n",
    "        rows = data.split(\"\\n\")\n",
    "        \n",
    "        columns = rows[0].split(separator)\n",
    "        \n",
    "        for row in rows[1:]:\n",
    "            row_data = row.split(separator)\n",
    "#         print(row_data)\n",
    "            row_dict = {}\n",
    "    \n",
    "#         column을 for문 돌리면서 컬럼에 해당하는 데이터를 추가한다\n",
    "            for column_index in range(len(columns)):\n",
    "                column = columns[column_index]\n",
    "#             print(column_index)\n",
    "                row_dict[column] = row_data[column_index]\n",
    "#             print(column)\n",
    "            result.append(row_dict)\n",
    "        return result"
   ]
  },
  {
   "cell_type": "code",
   "execution_count": 60,
   "metadata": {},
   "outputs": [
    {
     "data": {
      "text/plain": [
       "[{'Korean Name': '강아지', ' English Name': ' dog', ' size': '중형'},\n",
       " {'Korean Name': '고양이', ' English Name': ' cat', ' size': '소형'},\n",
       " {'Korean Name': '물고기', ' English Name': ' fish', ' size': '초소형'},\n",
       " {'Korean Name': '원숭이', ' English Name': ' monkey', ' size': '대형'}]"
      ]
     },
     "execution_count": 60,
     "metadata": {},
     "output_type": "execute_result"
    }
   ],
   "source": [
    "read_csv(\"animal.csv\")"
   ]
  },
  {
   "cell_type": "code",
   "execution_count": 57,
   "metadata": {},
   "outputs": [],
   "source": [
    "def read_csv(filepath, separator=\",\"): ##\n",
    "\n",
    "    with open(filepath, \"r\") as fp:  # 1. 파라메터 filepath\n",
    "\n",
    "        result = []  \n",
    "\n",
    "        data = fp.read()\n",
    "\n",
    "        rows = data.split(\"\\n\")\n",
    "\n",
    " \n",
    "\n",
    " \n",
    "\n",
    "        columns = rows[0].split(separator)  ##\n",
    "\n",
    " \n",
    "\n",
    "        for row in rows[1:]:\n",
    "\n",
    "            row_data = row.split(separator)   ##\n",
    "\n",
    " \n",
    "\n",
    "            row_dict = {}\n",
    "\n",
    " \n",
    "\n",
    "    #         column을 for문 돌리면서 컬럼에 해당 데이터를 추가한다. # {'Korean Name'}: \"강아지\"\n",
    "\n",
    " \n",
    "\n",
    "            for column_index in range(len(columns)):  #컬럼갯수만큼 반복한다.\n",
    "\n",
    "                column = columns[column_index]   # 0\n",
    "\n",
    "                row_dict[column]= row_data[column_index]\n",
    "\n",
    " \n",
    "\n",
    "            result.append(row_dict)\n",
    "\n",
    "        return result   # 2. return "
   ]
  },
  {
   "cell_type": "code",
   "execution_count": 58,
   "metadata": {},
   "outputs": [
    {
     "data": {
      "text/plain": [
       "[{'Name|Size': '딸기|소형'}, {'Name|Size': '멜론|중형'}, {'Name|Size': '수박|대형'}]"
      ]
     },
     "execution_count": 58,
     "metadata": {},
     "output_type": "execute_result"
    }
   ],
   "source": [
    "read_csv(\"fruit.csv\")"
   ]
  },
  {
   "cell_type": "code",
   "execution_count": 5,
   "metadata": {},
   "outputs": [],
   "source": [
    "fp = open(\"new.txt\", \"w\")\n",
    "fp.write('hello world python')\n",
    "fp.close()\n"
   ]
  },
  {
   "cell_type": "code",
   "execution_count": 8,
   "metadata": {},
   "outputs": [
    {
     "data": {
      "text/plain": [
       "'Korean Name, English Name, size\\n강아지, dog,중형\\n고양이, cat,소형\\n물고기, fish,초소형\\n원숭이, monkey,대형'"
      ]
     },
     "execution_count": 8,
     "metadata": {},
     "output_type": "execute_result"
    }
   ],
   "source": [
    "with open(\"./animal.csv\") as fp:\n",
    "    data = fp.read()\n",
    "data"
   ]
  },
  {
   "cell_type": "code",
   "execution_count": 9,
   "metadata": {
    "scrolled": true
   },
   "outputs": [
    {
     "data": {
      "text/plain": [
       "['Korean Name, English Name, size',\n",
       " '강아지, dog,중형',\n",
       " '고양이, cat,소형',\n",
       " '물고기, fish,초소형',\n",
       " '원숭이, monkey,대형']"
      ]
     },
     "execution_count": 9,
     "metadata": {},
     "output_type": "execute_result"
    }
   ],
   "source": [
    "data.split('\\n')"
   ]
  },
  {
   "cell_type": "code",
   "execution_count": 13,
   "metadata": {},
   "outputs": [
    {
     "data": {
      "text/plain": [
       "['Korean Name, English Name, size',\n",
       " '강아지, dog,중형',\n",
       " '고양이, cat,소형',\n",
       " '물고기, fish,초소형',\n",
       " '원숭이, monkey,대형']"
      ]
     },
     "execution_count": 13,
     "metadata": {},
     "output_type": "execute_result"
    }
   ],
   "source": [
    "with open(\"./animal.csv\") as fp:\n",
    "    data = fp.read()\n",
    "    rows = data.split(\"\\n\")\n",
    "\n",
    "rows"
   ]
  },
  {
   "cell_type": "code",
   "execution_count": 16,
   "metadata": {},
   "outputs": [
    {
     "data": {
      "text/plain": [
       "'강아지, dog,중형'"
      ]
     },
     "execution_count": 16,
     "metadata": {},
     "output_type": "execute_result"
    }
   ],
   "source": [
    "row = rows[1]\n",
    "row"
   ]
  },
  {
   "cell_type": "code",
   "execution_count": 17,
   "metadata": {},
   "outputs": [
    {
     "data": {
      "text/plain": [
       "['강아지', ' dog', '중형']"
      ]
     },
     "execution_count": 17,
     "metadata": {},
     "output_type": "execute_result"
    }
   ],
   "source": [
    "row.split(\",\")"
   ]
  },
  {
   "cell_type": "code",
   "execution_count": 18,
   "metadata": {},
   "outputs": [
    {
     "data": {
      "text/plain": [
       "{'korean name': '강아지', 'english name': ' dog', 'size': '중형'}"
      ]
     },
     "execution_count": 18,
     "metadata": {},
     "output_type": "execute_result"
    }
   ],
   "source": [
    "{ \n",
    "    \"korean name\":row.split(\",\")[0],\n",
    "    \"english name\":row.split(\",\")[1],\n",
    "    \"size\":row.split(\",\")[2],\n",
    "}"
   ]
  },
  {
   "cell_type": "code",
   "execution_count": 23,
   "metadata": {},
   "outputs": [
    {
     "data": {
      "text/plain": [
       "[{'Korean Name': 'Korean Name',\n",
       "  'English Name': ' English Name',\n",
       "  'size': ' size'},\n",
       " {'Korean Name': '강아지', 'English Name': ' dog', 'size': '중형'},\n",
       " {'Korean Name': '고양이', 'English Name': ' cat', 'size': '소형'},\n",
       " {'Korean Name': '물고기', 'English Name': ' fish', 'size': '초소형'},\n",
       " {'Korean Name': '원숭이', 'English Name': ' monkey', 'size': '대형'}]"
      ]
     },
     "execution_count": 23,
     "metadata": {},
     "output_type": "execute_result"
    }
   ],
   "source": [
    "with open(\"animal.csv\", \"r\") as fp:\n",
    "    result = []\n",
    "    data = fp.read()\n",
    "    rows = data.split(\"\\n\")\n",
    "# rows\n",
    "    \n",
    "    for  row in rows:\n",
    "        animal = {\n",
    "            \"Korean Name\": row.split(\",\")[0] ,\n",
    "            \"English Name\" : row.split(\",\")[1],\n",
    "            \"size\": row.split(\",\")[2]\n",
    "        }\n",
    "        result.append(animal)\n",
    "        \n",
    "result"
   ]
  },
  {
   "cell_type": "code",
   "execution_count": 24,
   "metadata": {},
   "outputs": [
    {
     "data": {
      "text/plain": [
       "['Korean Name, English Name, size',\n",
       " '강아지, dog,중형',\n",
       " '고양이, cat,소형',\n",
       " '물고기, fish,초소형',\n",
       " '원숭이, monkey,대형']"
      ]
     },
     "execution_count": 24,
     "metadata": {},
     "output_type": "execute_result"
    }
   ],
   "source": [
    "rows"
   ]
  },
  {
   "cell_type": "code",
   "execution_count": 25,
   "metadata": {},
   "outputs": [
    {
     "data": {
      "text/plain": [
       "200"
      ]
     },
     "execution_count": 25,
     "metadata": {},
     "output_type": "execute_result"
    }
   ],
   "source": [
    "def double(x):\n",
    "    return 2 * x\n",
    "double(100)"
   ]
  },
  {
   "cell_type": "code",
   "execution_count": 26,
   "metadata": {},
   "outputs": [
    {
     "data": {
      "text/plain": [
       "<function __main__.<lambda>(x)>"
      ]
     },
     "execution_count": 26,
     "metadata": {},
     "output_type": "execute_result"
    }
   ],
   "source": [
    "lambda x:2 * x"
   ]
  },
  {
   "cell_type": "code",
   "execution_count": 27,
   "metadata": {},
   "outputs": [
    {
     "data": {
      "text/plain": [
       "200"
      ]
     },
     "execution_count": 27,
     "metadata": {},
     "output_type": "execute_result"
    }
   ],
   "source": [
    "(lambda x: 2*x) (100)"
   ]
  },
  {
   "cell_type": "code",
   "execution_count": 29,
   "metadata": {},
   "outputs": [
    {
     "data": {
      "text/plain": [
       "[2, 4, 6, 8, 10]"
      ]
     },
     "execution_count": 29,
     "metadata": {},
     "output_type": "execute_result"
    }
   ],
   "source": [
    "my_list = [1,2,3,4,5]\n",
    "result = []\n",
    "\n",
    "for element in my_list:\n",
    "    result.append(double(element))\n",
    "result"
   ]
  },
  {
   "cell_type": "code",
   "execution_count": 30,
   "metadata": {},
   "outputs": [
    {
     "data": {
      "text/plain": [
       "[2, 4, 6, 8, 10]"
      ]
     },
     "execution_count": 30,
     "metadata": {},
     "output_type": "execute_result"
    }
   ],
   "source": [
    "list(map(double, [1,2,3,4,5]))"
   ]
  },
  {
   "cell_type": "code",
   "execution_count": 31,
   "metadata": {},
   "outputs": [
    {
     "data": {
      "text/plain": [
       "[2, 4, 6, 8, 10]"
      ]
     },
     "execution_count": 31,
     "metadata": {},
     "output_type": "execute_result"
    }
   ],
   "source": [
    "list(map(\n",
    "    lambda x: x*2, [1,2,3,4,5]\n",
    "))"
   ]
  },
  {
   "cell_type": "code",
   "execution_count": 59,
   "metadata": {},
   "outputs": [
    {
     "data": {
      "text/plain": [
       "<function __main__.<lambda>(filepath)>"
      ]
     },
     "execution_count": 59,
     "metadata": {},
     "output_type": "execute_result"
    }
   ],
   "source": [
    "read_lsv = lambda filepath: read_csv(filepath,\"|\")\n",
    "read_lsv"
   ]
  },
  {
   "cell_type": "code",
   "execution_count": 60,
   "metadata": {},
   "outputs": [
    {
     "data": {
      "text/plain": [
       "[{'Name': '딸기', 'Size': '소형'},\n",
       " {'Name': '멜론', 'Size': '중형'},\n",
       " {'Name': '수박', 'Size': '대형'}]"
      ]
     },
     "execution_count": 60,
     "metadata": {},
     "output_type": "execute_result"
    }
   ],
   "source": [
    "read_lsv(\"./fruit.csv\")"
   ]
  },
  {
   "cell_type": "code",
   "execution_count": 61,
   "metadata": {},
   "outputs": [
    {
     "data": {
      "text/plain": [
       "[0, 2, 4, 6, 8, 10, 12, 14, 16, 18]"
      ]
     },
     "execution_count": 61,
     "metadata": {},
     "output_type": "execute_result"
    }
   ],
   "source": [
    "list(map(\n",
    "    lambda x: x*2,\n",
    "    range(10\n",
    "         )))"
   ]
  },
  {
   "cell_type": "code",
   "execution_count": 62,
   "metadata": {},
   "outputs": [
    {
     "data": {
      "text/plain": [
       "[200, 300, 12345]"
      ]
     },
     "execution_count": 62,
     "metadata": {},
     "output_type": "execute_result"
    }
   ],
   "source": [
    "list(filter(\n",
    "    lambda x: x>100,\n",
    "    [1,10,100,200,300,12345]\n",
    "         ))"
   ]
  },
  {
   "cell_type": "code",
   "execution_count": 68,
   "metadata": {},
   "outputs": [
    {
     "data": {
      "text/plain": [
       "[64, 81, 100]"
      ]
     },
     "execution_count": 68,
     "metadata": {},
     "output_type": "execute_result"
    }
   ],
   "source": [
    "result = []\n",
    "for i in range(1,11):\n",
    "    element = i**2\n",
    "    if element >= 50:\n",
    "        result.append(element)\n",
    "result\n"
   ]
  },
  {
   "cell_type": "code",
   "execution_count": 69,
   "metadata": {},
   "outputs": [
    {
     "data": {
      "text/plain": [
       "[1, 4, 9, 16, 25, 36, 49, 64, 81, 100]"
      ]
     },
     "execution_count": 69,
     "metadata": {},
     "output_type": "execute_result"
    }
   ],
   "source": [
    "list(map(lambda x: x**2, range(1,11)))"
   ]
  },
  {
   "cell_type": "code",
   "execution_count": 70,
   "metadata": {},
   "outputs": [
    {
     "data": {
      "text/plain": [
       "[64, 81, 100]"
      ]
     },
     "execution_count": 70,
     "metadata": {},
     "output_type": "execute_result"
    }
   ],
   "source": [
    "list(filter(\n",
    "    lambda x: x>=50,\n",
    "    list(map(lambda x: x**2, range(1,11)))))"
   ]
  },
  {
   "cell_type": "code",
   "execution_count": 72,
   "metadata": {},
   "outputs": [],
   "source": [
    "def get_sum(my_list):\n",
    "    result = 0\n",
    "    for element in my_list:\n",
    "        result = result +element\n",
    "    return result"
   ]
  },
  {
   "cell_type": "code",
   "execution_count": 73,
   "metadata": {},
   "outputs": [
    {
     "data": {
      "text/plain": [
       "15"
      ]
     },
     "execution_count": 73,
     "metadata": {},
     "output_type": "execute_result"
    }
   ],
   "source": [
    "get_sum([1,2,3,4,5])"
   ]
  },
  {
   "cell_type": "code",
   "execution_count": 75,
   "metadata": {},
   "outputs": [],
   "source": [
    "from functools import reduce"
   ]
  },
  {
   "cell_type": "code",
   "execution_count": 76,
   "metadata": {},
   "outputs": [
    {
     "data": {
      "text/plain": [
       "15"
      ]
     },
     "execution_count": 76,
     "metadata": {},
     "output_type": "execute_result"
    }
   ],
   "source": [
    "reduce(\n",
    "    lambda a,b: a+b,\n",
    "    [1,2,3,4,5]\n",
    ")"
   ]
  },
  {
   "cell_type": "code",
   "execution_count": 88,
   "metadata": {},
   "outputs": [],
   "source": [
    "def get_max(elements):\n",
    "    max = elements[0]\n",
    "    \n",
    "    for element in elements:\n",
    "        if element >= max:\n",
    "            max = element\n",
    "    return max"
   ]
  },
  {
   "cell_type": "code",
   "execution_count": 89,
   "metadata": {},
   "outputs": [
    {
     "data": {
      "text/plain": [
       "105"
      ]
     },
     "execution_count": 89,
     "metadata": {},
     "output_type": "execute_result"
    }
   ],
   "source": [
    "get_max([1,2,100,3,4,5,105,100,6])"
   ]
  },
  {
   "cell_type": "code",
   "execution_count": 91,
   "metadata": {},
   "outputs": [
    {
     "data": {
      "text/plain": [
       "105"
      ]
     },
     "execution_count": 91,
     "metadata": {},
     "output_type": "execute_result"
    }
   ],
   "source": [
    "reduce(\n",
    "    lambda a,b: a if a>b else b,\n",
    "    [1,2,100,3,4,5,105,100,6]\n",
    ")"
   ]
  },
  {
   "cell_type": "code",
   "execution_count": 94,
   "metadata": {},
   "outputs": [],
   "source": [
    "get_max = lambda elements: reduce(\n",
    "    lambda a,b: a if a>b else b,\n",
    "    elements,\n",
    ")\n"
   ]
  },
  {
   "cell_type": "code",
   "execution_count": 97,
   "metadata": {},
   "outputs": [
    {
     "data": {
      "text/plain": [
       "105"
      ]
     },
     "execution_count": 97,
     "metadata": {},
     "output_type": "execute_result"
    }
   ],
   "source": [
    "get_max([1,2,100,3,4,5,105,100,6])"
   ]
  },
  {
   "cell_type": "code",
   "execution_count": 98,
   "metadata": {},
   "outputs": [
    {
     "data": {
      "text/plain": [
       "[1, 4, 9, 16, 25]"
      ]
     },
     "execution_count": 98,
     "metadata": {},
     "output_type": "execute_result"
    }
   ],
   "source": [
    "list(map(\n",
    "    lambda x: x**2,\n",
    "    range(1,6,\n",
    "         )))"
   ]
  },
  {
   "cell_type": "code",
   "execution_count": 100,
   "metadata": {},
   "outputs": [
    {
     "data": {
      "text/plain": [
       "[1, 4, 9, 16, 25]"
      ]
     },
     "execution_count": 100,
     "metadata": {},
     "output_type": "execute_result"
    }
   ],
   "source": [
    "[ i**2 for i in range(1,6)]"
   ]
  },
  {
   "cell_type": "code",
   "execution_count": 101,
   "metadata": {},
   "outputs": [
    {
     "data": {
      "text/plain": [
       "[100, 104, 2000]"
      ]
     },
     "execution_count": 101,
     "metadata": {},
     "output_type": "execute_result"
    }
   ],
   "source": [
    "[\n",
    "    i\n",
    "    for i\n",
    "    in [100,1,2,3,104,2000]\n",
    "    if i>=100\n",
    "]"
   ]
  },
  {
   "cell_type": "code",
   "execution_count": 102,
   "metadata": {},
   "outputs": [
    {
     "data": {
      "text/plain": [
       "[64, 81, 100]"
      ]
     },
     "execution_count": 102,
     "metadata": {},
     "output_type": "execute_result"
    }
   ],
   "source": [
    "[\n",
    "    i**2\n",
    "    for i\n",
    "    in range(1,11)\n",
    "    if i**2>=50\n",
    "]"
   ]
  },
  {
   "cell_type": "code",
   "execution_count": 103,
   "metadata": {},
   "outputs": [
    {
     "data": {
      "text/plain": [
       "[['사과,Apple,중형', '딸기,Strawberry,소형', '수박,WaterMelon,대형']]"
      ]
     },
     "execution_count": 103,
     "metadata": {},
     "output_type": "execute_result"
    }
   ],
   "source": [
    "[\n",
    "    open(\"./fruits1.csv\", \"r\").read().split(\"\\n\")\n",
    "]"
   ]
  },
  {
   "cell_type": "code",
   "execution_count": 104,
   "metadata": {},
   "outputs": [
    {
     "data": {
      "text/plain": [
       "[{'Korean Name': '사과', 'English Name': 'Apple', 'size': '중형'},\n",
       " {'Korean Name': '딸기', 'English Name': 'Strawberry', 'size': '소형'},\n",
       " {'Korean Name': '수박', 'English Name': 'WaterMelon', 'size': '대형'}]"
      ]
     },
     "execution_count": 104,
     "metadata": {},
     "output_type": "execute_result"
    }
   ],
   "source": [
    "[\n",
    "    {\n",
    "            \"Korean Name\": row.split(\",\")[0] ,\n",
    "            \"English Name\" : row.split(\",\")[1],\n",
    "            \"size\": row.split(\",\")[2]\n",
    "    }\n",
    "    for row\n",
    "    in open(\"./fruits1.csv\", \"r\").read().split(\"\\n\")\n",
    "]"
   ]
  },
  {
   "cell_type": "code",
   "execution_count": 149,
   "metadata": {},
   "outputs": [
    {
     "ename": "SyntaxError",
     "evalue": "invalid syntax (<ipython-input-149-4756c42847dd>, line 5)",
     "output_type": "error",
     "traceback": [
      "\u001b[1;36m  File \u001b[1;32m\"<ipython-input-149-4756c42847dd>\"\u001b[1;36m, line \u001b[1;32m5\u001b[0m\n\u001b[1;33m    list(map(lambda x:x if x%2==0), a)\u001b[0m\n\u001b[1;37m                                 ^\u001b[0m\n\u001b[1;31mSyntaxError\u001b[0m\u001b[1;31m:\u001b[0m invalid syntax\n"
     ]
    }
   ],
   "source": [
    "# Q3.1 lambda로 소수구하기 \n",
    "# 2,3,5,7,11,13,17,19,23\n",
    "# map(lambda x:x%2==1), range(1,101)\n",
    "\n",
    "\n",
    "\n"
   ]
  },
  {
   "cell_type": "code",
   "execution_count": null,
   "metadata": {},
   "outputs": [],
   "source": [
    "#Q3.2 리스트내포로 소수구하기\n"
   ]
  },
  {
   "cell_type": "code",
   "execution_count": null,
   "metadata": {},
   "outputs": [],
   "source": []
  },
  {
   "cell_type": "code",
   "execution_count": null,
   "metadata": {},
   "outputs": [],
   "source": []
  },
  {
   "cell_type": "code",
   "execution_count": null,
   "metadata": {},
   "outputs": [],
   "source": []
  }
 ],
 "metadata": {
  "kernelspec": {
   "display_name": "Python 3",
   "language": "python",
   "name": "python3"
  },
  "language_info": {
   "codemirror_mode": {
    "name": "ipython",
    "version": 3
   },
   "file_extension": ".py",
   "mimetype": "text/x-python",
   "name": "python",
   "nbconvert_exporter": "python",
   "pygments_lexer": "ipython3",
   "version": "3.8.6"
  }
 },
 "nbformat": 4,
 "nbformat_minor": 4
}
