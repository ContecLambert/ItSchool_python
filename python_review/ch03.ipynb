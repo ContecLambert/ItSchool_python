{
 "cells": [
  {
   "cell_type": "code",
   "execution_count": 19,
   "metadata": {},
   "outputs": [
    {
     "data": {
      "text/plain": [
       "['', 'two', 'three', 'two', '', 'twothree', '', 'two', 'three', 'two']"
      ]
     },
     "execution_count": 19,
     "metadata": {},
     "output_type": "execute_result"
    }
   ],
   "source": [
    "[\n",
    "#     \"twothree\" if (i+1)%6 ==0 else \"\" +\n",
    "    (\"two\" if (i+1)%2 ==0 else \"\")+\n",
    "    (\"three\" if (i+1)%3==0 else \"\")\n",
    "    for i\n",
    "    in range(10)\n",
    "]"
   ]
  },
  {
   "cell_type": "code",
   "execution_count": 20,
   "metadata": {},
   "outputs": [
    {
     "data": {
      "text/plain": [
       "30"
      ]
     },
     "execution_count": 20,
     "metadata": {},
     "output_type": "execute_result"
    }
   ],
   "source": [
    "def get_sum(a,b,c):\n",
    "    return a+b+c\n",
    "get_sum(10,10,10)"
   ]
  },
  {
   "cell_type": "code",
   "execution_count": 21,
   "metadata": {},
   "outputs": [
    {
     "name": "stdout",
     "output_type": "stream",
     "text": [
      "(1, 2, 3, 4, 5, 6, 7)\n"
     ]
    },
    {
     "data": {
      "text/plain": [
       "28"
      ]
     },
     "execution_count": 21,
     "metadata": {},
     "output_type": "execute_result"
    }
   ],
   "source": [
    "def get_sum(*args):\n",
    "    print(args)\n",
    "    result =0\n",
    "    for arg in args:\n",
    "        result += arg\n",
    "    return result\n",
    "get_sum(1,2,3,4,5,6,7)"
   ]
  },
  {
   "cell_type": "code",
   "execution_count": 22,
   "metadata": {},
   "outputs": [
    {
     "name": "stdout",
     "output_type": "stream",
     "text": [
      "(1, 2, 3, 4, 5)\n"
     ]
    },
    {
     "data": {
      "text/plain": [
       "15"
      ]
     },
     "execution_count": 22,
     "metadata": {},
     "output_type": "execute_result"
    }
   ],
   "source": [
    "data = (1,2,3,4,5)\n",
    "get_sum(*data)"
   ]
  },
  {
   "cell_type": "code",
   "execution_count": 23,
   "metadata": {},
   "outputs": [],
   "source": [
    "def hello(**kwargs):\n",
    "    print(kwargs)"
   ]
  },
  {
   "cell_type": "code",
   "execution_count": 24,
   "metadata": {},
   "outputs": [
    {
     "name": "stdout",
     "output_type": "stream",
     "text": [
      "{'name': 'hong', 'email': 'hong@gmail.com'}\n"
     ]
    }
   ],
   "source": [
    "hello(name=\"hong\",email=\"hong@gmail.com\")"
   ]
  },
  {
   "cell_type": "code",
   "execution_count": 27,
   "metadata": {},
   "outputs": [],
   "source": [
    "student= {\"name\":\"hong\",\"email\":\"hong@gmail.com\"}"
   ]
  },
  {
   "cell_type": "code",
   "execution_count": 29,
   "metadata": {},
   "outputs": [
    {
     "name": "stdout",
     "output_type": "stream",
     "text": [
      "{'name': 'hong', 'email': 'hong@gmail.com'}\n"
     ]
    }
   ],
   "source": [
    "hello(**student)"
   ]
  },
  {
   "cell_type": "code",
   "execution_count": 30,
   "metadata": {},
   "outputs": [
    {
     "name": "stdout",
     "output_type": "stream",
     "text": [
      "{'name': 'hong', 'email': 'hong@gmail.com'}\n"
     ]
    }
   ],
   "source": [
    "hello(**{\"name\":\"hong\",\"email\":\"hong@gmail.com\"})"
   ]
  },
  {
   "cell_type": "code",
   "execution_count": 31,
   "metadata": {},
   "outputs": [],
   "source": [
    "def hello(*args, **kwargs):\n",
    "    print(args)\n",
    "    print(kwargs)"
   ]
  },
  {
   "cell_type": "code",
   "execution_count": 32,
   "metadata": {},
   "outputs": [
    {
     "name": "stdout",
     "output_type": "stream",
     "text": [
      "(1, 2, 3)\n",
      "{'name': 'hong'}\n"
     ]
    }
   ],
   "source": [
    "hello(1,2,3,name=\"hong\")"
   ]
  },
  {
   "cell_type": "code",
   "execution_count": 33,
   "metadata": {},
   "outputs": [],
   "source": [
    "def info(name,email,*args,**kwargs):\n",
    "    print(\"안녕하세요 \" + name + \"입니다\")\n",
    "    print(\"이메일은 \"+ email)\n",
    "    print(\"----------------------------\")\n",
    "    print(kwargs)\n",
    "    print(\"----------------------------\")"
   ]
  },
  {
   "cell_type": "code",
   "execution_count": 39,
   "metadata": {},
   "outputs": [
    {
     "name": "stdout",
     "output_type": "stream",
     "text": [
      "안녕하세요양희원입니다\n",
      "이메일은yhw5129@naver.com\n",
      "----------------------------\n",
      "{'나이': 26, '핸드폰번호': '01099595129'}\n",
      "----------------------------\n"
     ]
    }
   ],
   "source": [
    "info(\"양희원\",\"yhw5129@naver.com\",나이=26,핸드폰번호=\"01099595129\")"
   ]
  },
  {
   "cell_type": "code",
   "execution_count": 6,
   "metadata": {},
   "outputs": [
    {
     "name": "stdout",
     "output_type": "stream",
     "text": [
      "안녕하세요, 저는 20살 홍길동 입니다.\n"
     ]
    }
   ],
   "source": [
    "class Person():\n",
    "    name = \"홍길동\"\n",
    "    age = 20\n",
    "    \n",
    "    def introduce(self):\n",
    "        print(\"안녕하세요, 저는 {age}살 {name} 입니다.\".format(age=self.age, name=self.name))\n",
    "\n",
    "hong = Person()\n",
    "hong.introduce()"
   ]
  },
  {
   "cell_type": "code",
   "execution_count": 10,
   "metadata": {},
   "outputs": [
    {
     "data": {
      "text/plain": [
       "<__main__.Person at 0x15e14cb8160>"
      ]
     },
     "execution_count": 10,
     "metadata": {},
     "output_type": "execute_result"
    }
   ],
   "source": [
    "hong = Person()\n",
    "hong"
   ]
  },
  {
   "cell_type": "code",
   "execution_count": 21,
   "metadata": {},
   "outputs": [],
   "source": [
    "class Person():\n",
    "    def __init__(self,name,age,*args, **kwargs):\n",
    "        self.name =name\n",
    "        self.age = age\n",
    "    \n",
    "    def introduce(self):\n",
    "        print(\"안녕하세요, 저는 {age}살 {name} 입니다.\".format(age=self.age, name=self.name))\n",
    "    \n",
    "    def meet(self,another):\n",
    "        print(\"{myname}이 {yourname}을 만났습니다.\".format(\n",
    "        myname = self.name,\n",
    "        yourname = another.name))\n",
    "    "
   ]
  },
  {
   "cell_type": "code",
   "execution_count": 240,
   "metadata": {},
   "outputs": [],
   "source": [
    "class Person():\n",
    "    def __init__(self,name,age,money):\n",
    "        self.name =name\n",
    "        self.age = age\n",
    "        self.money = money\n",
    "    \n",
    "    def __str__(self):\n",
    "        return (\"이름은 {}입니다.\".format(self.name))\n",
    "    \n",
    "    def __repr__(self):\n",
    "        return self.name\n",
    "\n",
    "    def __add__(self,partner):\n",
    "        print(\"{} & {} | 결혼을 축하합니다.\".format(\n",
    "        self.name,\n",
    "        partner.name))\n",
    "    \n",
    "    def introduce(self):\n",
    "        print(\"안녕하세요, 저는 {}살 {} 입니다.\".format(self.age, self.name))\n",
    "    \n",
    "    def meet(self,another):\n",
    "        print(\"{}이 {}을 만났습니다.\".format(\n",
    "        self.name,\n",
    "        another.name))\n",
    "    \n",
    "    def give(self, partner,amount):\n",
    "        self.money -= amount\n",
    "        partner.money += amount\n",
    "        \n",
    "    def merried(self, another):\n",
    "        print(\"{}과 {}의 결혼을 축하합니다.\".format(\n",
    "        self.name,\n",
    "        another.name))"
   ]
  },
  {
   "cell_type": "code",
   "execution_count": 241,
   "metadata": {},
   "outputs": [],
   "source": [
    "lee = Person(\"이도령\", 30,1000)"
   ]
  },
  {
   "cell_type": "code",
   "execution_count": 245,
   "metadata": {},
   "outputs": [],
   "source": [
    "hong = Person(\"홍길동\",20,10000)"
   ]
  },
  {
   "cell_type": "code",
   "execution_count": 248,
   "metadata": {},
   "outputs": [
    {
     "name": "stdout",
     "output_type": "stream",
     "text": [
      "안녕하세요, 저는 20살 홍길동 입니다.\n"
     ]
    }
   ],
   "source": [
    "hong.introduce()"
   ]
  },
  {
   "cell_type": "code",
   "execution_count": 249,
   "metadata": {},
   "outputs": [
    {
     "name": "stdout",
     "output_type": "stream",
     "text": [
      "홍길동이 이도령을 만났습니다.\n"
     ]
    }
   ],
   "source": [
    "hong.meet(lee)"
   ]
  },
  {
   "cell_type": "code",
   "execution_count": 250,
   "metadata": {},
   "outputs": [
    {
     "name": "stdout",
     "output_type": "stream",
     "text": [
      "홍길동과 이도령의 결혼을 축하합니다.\n"
     ]
    }
   ],
   "source": [
    "hong.merried(lee)"
   ]
  },
  {
   "cell_type": "code",
   "execution_count": 251,
   "metadata": {},
   "outputs": [
    {
     "name": "stdout",
     "output_type": "stream",
     "text": [
      "홍길동 & 이도령 | 결혼을 축하합니다.\n"
     ]
    }
   ],
   "source": [
    "hong + lee"
   ]
  },
  {
   "cell_type": "code",
   "execution_count": 252,
   "metadata": {},
   "outputs": [],
   "source": [
    "hong.give(lee,2000)"
   ]
  },
  {
   "cell_type": "code",
   "execution_count": 253,
   "metadata": {},
   "outputs": [
    {
     "data": {
      "text/plain": [
       "8000"
      ]
     },
     "execution_count": 253,
     "metadata": {},
     "output_type": "execute_result"
    }
   ],
   "source": [
    "hong.money"
   ]
  },
  {
   "cell_type": "code",
   "execution_count": 254,
   "metadata": {},
   "outputs": [
    {
     "data": {
      "text/plain": [
       "3000"
      ]
     },
     "execution_count": 254,
     "metadata": {},
     "output_type": "execute_result"
    }
   ],
   "source": [
    "lee.money"
   ]
  },
  {
   "cell_type": "code",
   "execution_count": 257,
   "metadata": {},
   "outputs": [],
   "source": [
    "data = [\n",
    "    {\"name\":\"사람0\" , \"age\":20, \"money\":1000},\n",
    "    {\"name\":\"사람1\" , \"age\":30, \"money\":2000},\n",
    "    {\"name\":\"사람2\" , \"age\":40, \"money\":3000},\n",
    "    {\"name\":\"사람4\" , \"age\":50, \"money\":9000},\n",
    "]"
   ]
  },
  {
   "cell_type": "code",
   "execution_count": 258,
   "metadata": {},
   "outputs": [
    {
     "data": {
      "text/plain": [
       "[{'name': '사람0', 'age': 20, 'money': 1000},\n",
       " {'name': '사람1', 'age': 30, 'money': 2000},\n",
       " {'name': '사람2', 'age': 40, 'money': 3000},\n",
       " {'name': '사람4', 'age': 50, 'money': 9000}]"
      ]
     },
     "execution_count": 258,
     "metadata": {},
     "output_type": "execute_result"
    }
   ],
   "source": [
    "data"
   ]
  },
  {
   "cell_type": "code",
   "execution_count": 259,
   "metadata": {},
   "outputs": [],
   "source": [
    "people = [\n",
    "Person(person['name'],person['age'],person['money'])\n",
    "for person in data\n",
    "]"
   ]
  },
  {
   "cell_type": "code",
   "execution_count": 260,
   "metadata": {},
   "outputs": [
    {
     "name": "stdout",
     "output_type": "stream",
     "text": [
      "안녕하세요, 저는 40살 사람2 입니다.\n"
     ]
    }
   ],
   "source": [
    "people[2].introduce()"
   ]
  },
  {
   "cell_type": "code",
   "execution_count": 261,
   "metadata": {},
   "outputs": [],
   "source": [
    "del people[0]"
   ]
  },
  {
   "cell_type": "code",
   "execution_count": 262,
   "metadata": {},
   "outputs": [
    {
     "name": "stdout",
     "output_type": "stream",
     "text": [
      "[사람1, 사람2, 사람4]\n"
     ]
    }
   ],
   "source": [
    "print(people[:])"
   ]
  },
  {
   "cell_type": "code",
   "execution_count": 270,
   "metadata": {},
   "outputs": [
    {
     "name": "stdout",
     "output_type": "stream",
     "text": [
      "[아이언맨, 데드풀]\n",
      "[드래곤, 뱀파이어, 고블린]\n"
     ]
    }
   ],
   "source": [
    "class Character():\n",
    "    def __init__(self,name,power,damage,item):\n",
    "        self.name =name\n",
    "        self.power = power\n",
    "        self.damage = damage\n",
    "        self.item = item\n",
    "    def __repr__(self):\n",
    "        return self.name\n",
    "    \n",
    "    heros = []\n",
    "    heros.append(Character('아이언맨',300,100,{'weapon':'레이저','gold':1000}))\n",
    "    heros.append(Character('울버린',200,90,{'weapon':'갈퀴','gold':10}))\n",
    "    heros.append(Character('데드풀',100,50,{'weapon':'검','gold':20}))\n",
    "    \n",
    "    monsters = []\n",
    "    monsters.append(Character('드래곤',500,100,{'weapon':'불','gold':1000}))\n",
    "    monsters.append(Character('뱀파이어',400,100,{'weapon':'이빨','gold':90}))\n",
    "    monsters.append(Character('고블린',100,100,{'weapon':'창','gold':10}))\n",
    "    del heros[1]\n",
    "    print(heros)\n",
    "    print(monsters)"
   ]
  },
  {
   "cell_type": "code",
   "execution_count": 272,
   "metadata": {},
   "outputs": [],
   "source": [
    "import pandas as pd"
   ]
  },
  {
   "cell_type": "code",
   "execution_count": 287,
   "metadata": {},
   "outputs": [],
   "source": [
    "df = pd.read_csv(\"animal.csv\", encoding='euc-kr')"
   ]
  },
  {
   "cell_type": "code",
   "execution_count": 275,
   "metadata": {},
   "outputs": [],
   "source": [
    "class Animal():\n",
    "    def eat(self):\n",
    "        print(\"먹는다!!!!\")\n",
    "    def attack(self):\n",
    "        print(\"공격!!!!\")"
   ]
  },
  {
   "cell_type": "code",
   "execution_count": 276,
   "metadata": {},
   "outputs": [],
   "source": [
    "class Dog(Animal):\n",
    "    def bark(self):\n",
    "        print(\"왈왈\")"
   ]
  },
  {
   "cell_type": "code",
   "execution_count": 283,
   "metadata": {},
   "outputs": [],
   "source": [
    "class Bird(Animal):\n",
    "    def fly(self):\n",
    "        print(\"날다\")\n",
    "    def eat(self):\n",
    "        print(\"부리로 먹이를 쪼아 먹는다.\")"
   ]
  },
  {
   "cell_type": "code",
   "execution_count": 285,
   "metadata": {},
   "outputs": [
    {
     "name": "stdout",
     "output_type": "stream",
     "text": [
      "왈왈\n"
     ]
    }
   ],
   "source": [
    "dog = Dog()\n",
    "dog.bark()"
   ]
  },
  {
   "cell_type": "code",
   "execution_count": 284,
   "metadata": {},
   "outputs": [
    {
     "name": "stdout",
     "output_type": "stream",
     "text": [
      "부리로 먹이를 쪼아 먹는다.\n"
     ]
    }
   ],
   "source": [
    "bird = Bird()\n",
    "bird.eat()"
   ]
  },
  {
   "cell_type": "markdown",
   "metadata": {},
   "source": [
    "### OOP 객체지향 언어 4가지 특징\n",
    "#### 추상화(Abstraction)\n",
    "- 공통의 속성이나 기능을 묶어이름을 붙이는 것 => 클래스 정의하는 것을 추상화\n",
    "\n",
    "#### 캡슐화(Encapsulation)\n",
    "- 변수와 함수를 하나로 묶어 외부에서 접근을 막고, 함수를 통해서만 접근하도록 한다.(은닉화)\n",
    "- https://wikidocs.net/84421\n",
    "\n",
    "#### 상속(Inheritance)\n",
    "- 상위 개념의 특징을 하위 개념이 물려 받는 것 => 재사용성\n",
    "\n",
    "#### 다형성(Polymorphism)\n",
    "- 부모 클래스로부터 물려받은 함수를 자식 클래스에서 오버라이딩하여 사용하는것.\n",
    "\n",
    "##### [마크다운 활용법] (http://datanetworkanalysis.github.io/2019/10/12/markdown)"
   ]
  },
  {
   "cell_type": "code",
   "execution_count": 288,
   "metadata": {},
   "outputs": [
    {
     "data": {
      "text/html": [
       "<div>\n",
       "<style scoped>\n",
       "    .dataframe tbody tr th:only-of-type {\n",
       "        vertical-align: middle;\n",
       "    }\n",
       "\n",
       "    .dataframe tbody tr th {\n",
       "        vertical-align: top;\n",
       "    }\n",
       "\n",
       "    .dataframe thead th {\n",
       "        text-align: right;\n",
       "    }\n",
       "</style>\n",
       "<table border=\"1\" class=\"dataframe\">\n",
       "  <thead>\n",
       "    <tr style=\"text-align: right;\">\n",
       "      <th></th>\n",
       "      <th>Korean Name</th>\n",
       "      <th>English Name</th>\n",
       "      <th>size</th>\n",
       "    </tr>\n",
       "  </thead>\n",
       "  <tbody>\n",
       "    <tr>\n",
       "      <th>0</th>\n",
       "      <td>강아지</td>\n",
       "      <td>dog</td>\n",
       "      <td>중형</td>\n",
       "    </tr>\n",
       "    <tr>\n",
       "      <th>1</th>\n",
       "      <td>고양이</td>\n",
       "      <td>cat</td>\n",
       "      <td>소형</td>\n",
       "    </tr>\n",
       "    <tr>\n",
       "      <th>2</th>\n",
       "      <td>물고기</td>\n",
       "      <td>fish</td>\n",
       "      <td>초소형</td>\n",
       "    </tr>\n",
       "    <tr>\n",
       "      <th>3</th>\n",
       "      <td>원숭이</td>\n",
       "      <td>monkey</td>\n",
       "      <td>대형</td>\n",
       "    </tr>\n",
       "  </tbody>\n",
       "</table>\n",
       "</div>"
      ],
      "text/plain": [
       "  Korean Name  English Name  size\n",
       "0         강아지           dog    중형\n",
       "1         고양이           cat    소형\n",
       "2         물고기          fish   초소형\n",
       "3         원숭이        monkey    대형"
      ]
     },
     "execution_count": 288,
     "metadata": {},
     "output_type": "execute_result"
    }
   ],
   "source": [
    "import pandas as pd\n",
    "df = pd.read_csv(\"animal.csv\", encoding='euc-kr')\n",
    "df"
   ]
  },
  {
   "cell_type": "code",
   "execution_count": 289,
   "metadata": {},
   "outputs": [
    {
     "name": "stdout",
     "output_type": "stream",
     "text": [
      "  Korean Name  English Name  size\n",
      "0         강아지           dog    중형\n",
      "1         고양이           cat    소형\n",
      "2         물고기          fish   초소형\n",
      "3         원숭이        monkey    대형\n"
     ]
    }
   ],
   "source": [
    "print(df)"
   ]
  }
 ],
 "metadata": {
  "kernelspec": {
   "display_name": "Python 3",
   "language": "python",
   "name": "python3"
  },
  "language_info": {
   "codemirror_mode": {
    "name": "ipython",
    "version": 3
   },
   "file_extension": ".py",
   "mimetype": "text/x-python",
   "name": "python",
   "nbconvert_exporter": "python",
   "pygments_lexer": "ipython3",
   "version": "3.8.6"
  }
 },
 "nbformat": 4,
 "nbformat_minor": 4
}
